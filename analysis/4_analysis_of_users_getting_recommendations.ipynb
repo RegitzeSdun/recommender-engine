{
 "cells": [
  {
   "cell_type": "code",
   "execution_count": 26,
   "metadata": {},
   "outputs": [],
   "source": [
    "import pandas as pd\n",
    "import requests\n",
    "\n",
    "from recommender_engine.data_layer.db_connect import return_evidence_log\n",
    "from recommender_engine.logic_layer.recommended_for_you import calculate_recommended_for_you"
   ]
  },
  {
   "cell_type": "markdown",
   "metadata": {},
   "source": [
    "NOTE: This analysis only tests the current deployed association_rules_scheduler with the paramters that that one has been given"
   ]
  },
  {
   "cell_type": "code",
   "execution_count": 27,
   "metadata": {},
   "outputs": [],
   "source": [
    "# Extract all users\n",
    "evidence_log_df = return_evidence_log()"
   ]
  },
  {
   "cell_type": "code",
   "execution_count": 32,
   "metadata": {},
   "outputs": [
    {
     "name": "stdout",
     "output_type": "stream",
     "text": [
      "Succesfully queried Bigquery and got a result set\n",
      "0\n",
      "Succesfully queried Bigquery and got a result set\n",
      "1\n",
      "Succesfully queried Bigquery and got a result set\n",
      "2\n",
      "Succesfully queried Bigquery and got a result set\n",
      "3\n",
      "Succesfully queried Bigquery and got a result set\n",
      "4\n",
      "Succesfully queried Bigquery and got a result set\n",
      "5\n",
      "Succesfully queried Bigquery and got a result set\n",
      "6\n",
      "Succesfully queried Bigquery and got a result set\n",
      "7\n",
      "Succesfully queried Bigquery and got a result set\n",
      "8\n",
      "Succesfully queried Bigquery and got a result set\n",
      "9\n",
      "Succesfully queried Bigquery and got a result set\n",
      "10\n",
      "Succesfully queried Bigquery and got a result set\n",
      "11\n",
      "Succesfully queried Bigquery and got a result set\n",
      "12\n",
      "Succesfully queried Bigquery and got a result set\n",
      "13\n",
      "Succesfully queried Bigquery and got a result set\n",
      "14\n",
      "Succesfully queried Bigquery and got a result set\n",
      "15\n",
      "Succesfully queried Bigquery and got a result set\n",
      "16\n",
      "Succesfully queried Bigquery and got a result set\n",
      "17\n",
      "Succesfully queried Bigquery and got a result set\n",
      "18\n",
      "Succesfully queried Bigquery and got a result set\n",
      "19\n",
      "Succesfully queried Bigquery and got a result set\n",
      "20\n",
      "Succesfully queried Bigquery and got a result set\n",
      "21\n",
      "Succesfully queried Bigquery and got a result set\n",
      "22\n",
      "Succesfully queried Bigquery and got a result set\n",
      "23\n",
      "Succesfully queried Bigquery and got a result set\n",
      "24\n",
      "Succesfully queried Bigquery and got a result set\n",
      "25\n",
      "Succesfully queried Bigquery and got a result set\n",
      "26\n",
      "Succesfully queried Bigquery and got a result set\n",
      "27\n",
      "Succesfully queried Bigquery and got a result set\n",
      "28\n",
      "Succesfully queried Bigquery and got a result set\n",
      "29\n",
      "Succesfully queried Bigquery and got a result set\n",
      "30\n",
      "Succesfully queried Bigquery and got a result set\n",
      "31\n",
      "Succesfully queried Bigquery and got a result set\n",
      "32\n",
      "Succesfully queried Bigquery and got a result set\n",
      "33\n",
      "Succesfully queried Bigquery and got a result set\n",
      "34\n",
      "Succesfully queried Bigquery and got a result set\n",
      "35\n",
      "Succesfully queried Bigquery and got a result set\n",
      "36\n",
      "Succesfully queried Bigquery and got a result set\n",
      "37\n",
      "Succesfully queried Bigquery and got a result set\n",
      "38\n",
      "Succesfully queried Bigquery and got a result set\n",
      "39\n",
      "Succesfully queried Bigquery and got a result set\n",
      "40\n",
      "Succesfully queried Bigquery and got a result set\n",
      "41\n",
      "Succesfully queried Bigquery and got a result set\n",
      "42\n",
      "Succesfully queried Bigquery and got a result set\n",
      "43\n",
      "Succesfully queried Bigquery and got a result set\n",
      "44\n",
      "Succesfully queried Bigquery and got a result set\n",
      "45\n",
      "Succesfully queried Bigquery and got a result set\n",
      "46\n",
      "Succesfully queried Bigquery and got a result set\n",
      "47\n",
      "Succesfully queried Bigquery and got a result set\n",
      "48\n",
      "Succesfully queried Bigquery and got a result set\n",
      "49\n",
      "Succesfully queried Bigquery and got a result set\n",
      "50\n",
      "Succesfully queried Bigquery and got a result set\n",
      "51\n",
      "Succesfully queried Bigquery and got a result set\n",
      "52\n",
      "Succesfully queried Bigquery and got a result set\n",
      "53\n",
      "Succesfully queried Bigquery and got a result set\n",
      "54\n",
      "Succesfully queried Bigquery and got a result set\n",
      "55\n",
      "Succesfully queried Bigquery and got a result set\n",
      "56\n",
      "Succesfully queried Bigquery and got a result set\n",
      "57\n",
      "Succesfully queried Bigquery and got a result set\n",
      "58\n",
      "Succesfully queried Bigquery and got a result set\n",
      "59\n",
      "Succesfully queried Bigquery and got a result set\n",
      "60\n",
      "Succesfully queried Bigquery and got a result set\n",
      "61\n",
      "Succesfully queried Bigquery and got a result set\n",
      "62\n",
      "Succesfully queried Bigquery and got a result set\n",
      "63\n",
      "Succesfully queried Bigquery and got a result set\n",
      "64\n",
      "Succesfully queried Bigquery and got a result set\n",
      "65\n",
      "Succesfully queried Bigquery and got a result set\n",
      "66\n",
      "Succesfully queried Bigquery and got a result set\n",
      "67\n",
      "Succesfully queried Bigquery and got a result set\n",
      "68\n",
      "Succesfully queried Bigquery and got a result set\n",
      "69\n",
      "Succesfully queried Bigquery and got a result set\n",
      "70\n",
      "Succesfully queried Bigquery and got a result set\n",
      "71\n",
      "Succesfully queried Bigquery and got a result set\n",
      "72\n",
      "Succesfully queried Bigquery and got a result set\n",
      "73\n",
      "Succesfully queried Bigquery and got a result set\n",
      "74\n",
      "Succesfully queried Bigquery and got a result set\n",
      "75\n",
      "Succesfully queried Bigquery and got a result set\n",
      "76\n",
      "Succesfully queried Bigquery and got a result set\n",
      "77\n",
      "Succesfully queried Bigquery and got a result set\n",
      "78\n",
      "Succesfully queried Bigquery and got a result set\n",
      "79\n",
      "Succesfully queried Bigquery and got a result set\n",
      "80\n"
     ]
    },
    {
     "ename": "TypeError",
     "evalue": "'NoneType' object is not iterable",
     "output_type": "error",
     "traceback": [
      "\u001b[0;31m---------------------------------------------------------------------------\u001b[0m",
      "\u001b[0;31mTypeError\u001b[0m                                 Traceback (most recent call last)",
      "Cell \u001b[0;32mIn[32], line 5\u001b[0m\n\u001b[1;32m      2\u001b[0m user_df \u001b[39m=\u001b[39m evidence_log_df\u001b[39m.\u001b[39mgroupby(\u001b[39m'\u001b[39m\u001b[39muser_id\u001b[39m\u001b[39m'\u001b[39m)\u001b[39m.\u001b[39mbase_article_id\u001b[39m.\u001b[39mcount()\u001b[39m.\u001b[39mreset_index()\n\u001b[1;32m      4\u001b[0m \u001b[39mfor\u001b[39;00m index, row \u001b[39min\u001b[39;00m user_df\u001b[39m.\u001b[39miterrows():\n\u001b[0;32m----> 5\u001b[0m     recommendations \u001b[39m=\u001b[39m calculate_recommended_for_you(row[\u001b[39m\"\u001b[39;49m\u001b[39muser_id\u001b[39;49m\u001b[39m\"\u001b[39;49m])\n\u001b[1;32m      6\u001b[0m     user_df\u001b[39m.\u001b[39mloc[\u001b[39m0\u001b[39m,\u001b[39m'\u001b[39m\u001b[39mnumber_of_recs\u001b[39m\u001b[39m'\u001b[39m] \u001b[39m=\u001b[39m \u001b[39mlen\u001b[39m(recommendations\u001b[39m.\u001b[39mrecommendations)\n\u001b[1;32m      7\u001b[0m     \u001b[39mprint\u001b[39m(index)\n",
      "File \u001b[0;32m~/Repos_wawa/wawa-recommender-engine/recommender_engine/logic_layer/recommended_for_you.py:13\u001b[0m, in \u001b[0;36mcalculate_recommended_for_you\u001b[0;34m(user_id)\u001b[0m\n\u001b[1;32m     11\u001b[0m \u001b[39mdef\u001b[39;00m \u001b[39mcalculate_recommended_for_you\u001b[39m(user_id: \u001b[39mstr\u001b[39m) \u001b[39m-\u001b[39m\u001b[39m>\u001b[39m RecommendedForYouResponse:\n\u001b[1;32m     12\u001b[0m     association_rules_df \u001b[39m=\u001b[39m return_association_rules()\n\u001b[0;32m---> 13\u001b[0m     base_article_ids \u001b[39m=\u001b[39m return_base_article_ids_for_specific_user(user_id)\n\u001b[1;32m     15\u001b[0m     recommended_articles \u001b[39m=\u001b[39m \u001b[39mlist\u001b[39m(association_rules_df[association_rules_df[\u001b[39m'\u001b[39m\u001b[39mantecedents\u001b[39m\u001b[39m'\u001b[39m]\u001b[39m.\u001b[39misin(base_article_ids) \u001b[39m&\u001b[39m np\u001b[39m.\u001b[39mlogical_not(association_rules_df[\u001b[39m'\u001b[39m\u001b[39mconsequents\u001b[39m\u001b[39m'\u001b[39m]\u001b[39m.\u001b[39misin(base_article_ids))][\u001b[39m'\u001b[39m\u001b[39mconsequents\u001b[39m\u001b[39m'\u001b[39m])\n\u001b[1;32m     17\u001b[0m     \u001b[39mreturn\u001b[39;00m RecommendedForYouResponse(\n\u001b[1;32m     18\u001b[0m         recommendations\u001b[39m=\u001b[39mrecommended_articles,\n\u001b[1;32m     19\u001b[0m     )\n",
      "File \u001b[0;32m~/Repos_wawa/wawa-recommender-engine/recommender_engine/data_layer/recommended_for_you.py:22\u001b[0m, in \u001b[0;36mreturn_base_article_ids_for_specific_user\u001b[0;34m(user_id)\u001b[0m\n\u001b[1;32m     15\u001b[0m query \u001b[39m=\u001b[39m \u001b[39mf\u001b[39m\u001b[39m\"\"\"\u001b[39m\u001b[39m    \u001b[39m\n\u001b[1;32m     16\u001b[0m \u001b[39mSELECT base_article_id \u001b[39m\n\u001b[1;32m     17\u001b[0m \u001b[39mFROM `analytics.reduced_articles_evidence` \u001b[39m\n\u001b[1;32m     18\u001b[0m \u001b[39mWHERE user_id=\u001b[39m\u001b[39m'\u001b[39m\u001b[39m{\u001b[39;00muser_id\u001b[39m}\u001b[39;00m\u001b[39m'\u001b[39m\n\u001b[1;32m     19\u001b[0m \u001b[39m\u001b[39m\u001b[39m\"\"\"\u001b[39m\n\u001b[1;32m     21\u001b[0m query_result \u001b[39m=\u001b[39m query_bigquery(query)\n\u001b[0;32m---> 22\u001b[0m \u001b[39mreturn\u001b[39;00m [r[\u001b[39m\"\u001b[39m\u001b[39mbase_article_id\u001b[39m\u001b[39m\"\u001b[39m] \u001b[39mfor\u001b[39;00m r \u001b[39min\u001b[39;00m query_result]\n",
      "\u001b[0;31mTypeError\u001b[0m: 'NoneType' object is not iterable"
     ]
    }
   ],
   "source": [
    "\n",
    "# Create dataframe per user\n",
    "user_df = evidence_log_df.groupby('user_id').base_article_id.count().reset_index()\n",
    "\n",
    "for index, row in user_df.iterrows():\n",
    "    recommendations = calculate_recommended_for_you(row[\"user_id\"])\n",
    "    user_df.loc[0,'number_of_recs'] = len(recommendations.recommendations)\n",
    "    print(index)\n"
   ]
  },
  {
   "cell_type": "code",
   "execution_count": 38,
   "metadata": {},
   "outputs": [
    {
     "data": {
      "text/plain": [
       "2"
      ]
     },
     "execution_count": 38,
     "metadata": {},
     "output_type": "execute_result"
    }
   ],
   "source": [
    "len(recommendations.recommendations)"
   ]
  },
  {
   "cell_type": "code",
   "execution_count": null,
   "metadata": {},
   "outputs": [],
   "source": [
    "SELECT DISTINCT consequents \n",
    "FROM `analytics.association_rules`\n",
    "WHERE (antecedents IN (\n",
    "    SELECT base_article_id \n",
    "    FROM `analytics.reduced_articles_evidence` \n",
    "    WHERE user_id='39F47BBF-D2F4-4237-AE0C-195E278D39DA')\n",
    "    ) \n",
    "    AND (consequents NOT IN (\n",
    "         SELECT base_article_id \n",
    "        FROM `analytics.reduced_articles_evidence` \n",
    "        WHERE user_id='39F47BBF-D2F4-4237-AE0C-195E278D39DA')\n",
    "        )"
   ]
  }
 ],
 "metadata": {
  "kernelspec": {
   "display_name": "venv",
   "language": "python",
   "name": "python3"
  },
  "language_info": {
   "codemirror_mode": {
    "name": "ipython",
    "version": 3
   },
   "file_extension": ".py",
   "mimetype": "text/x-python",
   "name": "python",
   "nbconvert_exporter": "python",
   "pygments_lexer": "ipython3",
   "version": "3.9.12"
  },
  "orig_nbformat": 4,
  "vscode": {
   "interpreter": {
    "hash": "f8619754eeaeffed940517cd348dac19ab68eb78f61942b9bbb88a1275fce8ef"
   }
  }
 },
 "nbformat": 4,
 "nbformat_minor": 2
}
